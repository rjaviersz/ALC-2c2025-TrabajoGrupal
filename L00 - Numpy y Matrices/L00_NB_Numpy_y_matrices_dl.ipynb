{
  "cells": [
    {
      "cell_type": "markdown",
      "metadata": {
        "id": "lcFTHgZ0U4sT"
      },
      "source": [
        "# [Numpy](https://numpy.org/doc/stable/index.html)\n",
        "\n"
      ]
    },
    {
      "cell_type": "code",
      "execution_count": 1,
      "metadata": {
        "id": "C9yw-iuSU4sV"
      },
      "outputs": [],
      "source": [
        "import numpy as np"
      ]
    },
    {
      "cell_type": "markdown",
      "metadata": {
        "id": "aVRqxEEG69YI"
      },
      "source": [
        "Tipos de numpy"
      ]
    },
    {
      "cell_type": "code",
      "execution_count": 2,
      "metadata": {
        "colab": {
          "base_uri": "https://localhost:8080/"
        },
        "id": "B3QZXB1_6omb",
        "outputId": "533cba39-537a-428e-cb34-2449f4fe5fc2"
      },
      "outputs": [
        {
          "output_type": "execute_result",
          "data": {
            "text/plain": [
              "(numpy.bool,\n",
              " numpy.int8,\n",
              " numpy.uint8,\n",
              " numpy.int16,\n",
              " numpy.uint16,\n",
              " numpy.int32,\n",
              " numpy.uint32,\n",
              " numpy.int64,\n",
              " numpy.uint64,\n",
              " numpy.longlong,\n",
              " numpy.ulonglong,\n",
              " numpy.float16,\n",
              " numpy.float16,\n",
              " numpy.float32,\n",
              " numpy.float64,\n",
              " numpy.longdouble,\n",
              " numpy.complex64,\n",
              " numpy.complex128,\n",
              " numpy.clongdouble)"
            ]
          },
          "metadata": {},
          "execution_count": 2
        }
      ],
      "source": [
        "np.bool_, np.byte, np.ubyte, np.short, np.ushort, np.intc, np.uintc, np.int_, np.uint, np.longlong, np.ulonglong, np.half, np.float16, np.single, np.double, np.longdouble, np.csingle, np.cdouble, np.clongdouble"
      ]
    },
    {
      "cell_type": "markdown",
      "metadata": {
        "id": "jIhJ7KnrU4sX"
      },
      "source": [
        "## [Arrays](https://numpy.org/doc/stable/reference/arrays.html)"
      ]
    },
    {
      "cell_type": "markdown",
      "metadata": {
        "id": "s-XDS8y7U4sX"
      },
      "source": [
        "Los arrays son el tipo de datos más importante que provee NumPy. En su versión más básica representan vectores pero pueden tener más dimensiones y representar matrices y tensores en general.\n",
        "\n",
        "El tipo se llama ndarray pero también se lo conoce en la librería simplemente como array.\n",
        "\n",
        "En su versión más simple podemos pensar que no es más que una lista de python pero:\n",
        "\n",
        "* A diferencia de las listas en python, solo pueden tener un tipo de datos adentro.\n",
        "* Existen un montón de operaciones matemáticas definidas y optimizadas para trabajar con este tipo de datos.\n",
        "\n",
        "Al ser una clase de python, además de métodos tiene atributos. Veamos algunos de ellos"
      ]
    },
    {
      "cell_type": "code",
      "execution_count": 3,
      "metadata": {
        "colab": {
          "base_uri": "https://localhost:8080/"
        },
        "id": "AdYE6LIKU4sY",
        "outputId": "9ff2e3d5-0381-4ae4-dcf5-fa0e8d51f5be"
      },
      "outputs": [
        {
          "output_type": "execute_result",
          "data": {
            "text/plain": [
              "array([ 0,  1,  2,  3,  4,  5,  6,  7,  8,  9, 10, 11, 12, 13, 14, 15, 16,\n",
              "       17, 18, 19])"
            ]
          },
          "metadata": {},
          "execution_count": 3
        }
      ],
      "source": [
        "an_array = np.arange(20)\n",
        "an_array"
      ]
    },
    {
      "cell_type": "code",
      "execution_count": 4,
      "metadata": {
        "colab": {
          "base_uri": "https://localhost:8080/"
        },
        "id": "--oV7HVCU4sZ",
        "outputId": "594bece9-bfac-4775-892a-4e77fadb190f"
      },
      "outputs": [
        {
          "output_type": "execute_result",
          "data": {
            "text/plain": [
              "(20,)"
            ]
          },
          "metadata": {},
          "execution_count": 4
        }
      ],
      "source": [
        "an_array.shape"
      ]
    },
    {
      "cell_type": "code",
      "execution_count": 5,
      "metadata": {
        "colab": {
          "base_uri": "https://localhost:8080/"
        },
        "id": "AltxszNXU4sZ",
        "outputId": "b98dbeaa-cfe0-41b5-ee69-7d923587cd5c"
      },
      "outputs": [
        {
          "output_type": "execute_result",
          "data": {
            "text/plain": [
              "1"
            ]
          },
          "metadata": {},
          "execution_count": 5
        }
      ],
      "source": [
        "an_array.ndim"
      ]
    },
    {
      "cell_type": "code",
      "execution_count": 6,
      "metadata": {
        "colab": {
          "base_uri": "https://localhost:8080/"
        },
        "id": "k8J7kCyfU4sa",
        "outputId": "32f5f5a7-87d3-4ca2-8f9b-1d1d7d374b01"
      },
      "outputs": [
        {
          "output_type": "execute_result",
          "data": {
            "text/plain": [
              "20"
            ]
          },
          "metadata": {},
          "execution_count": 6
        }
      ],
      "source": [
        "an_array.size"
      ]
    },
    {
      "cell_type": "code",
      "execution_count": 7,
      "metadata": {
        "colab": {
          "base_uri": "https://localhost:8080/"
        },
        "id": "JdYnKIj5U4sa",
        "outputId": "98e3dd7c-759e-49eb-d23b-d1c741930d74"
      },
      "outputs": [
        {
          "output_type": "execute_result",
          "data": {
            "text/plain": [
              "dtype('int64')"
            ]
          },
          "metadata": {},
          "execution_count": 7
        }
      ],
      "source": [
        "an_array.dtype"
      ]
    },
    {
      "cell_type": "markdown",
      "metadata": {
        "id": "2AlTmDLhU4se"
      },
      "source": [
        "### [Armando arrays](https://numpy.org/doc/stable/user/basics.creation.html)"
      ]
    },
    {
      "cell_type": "markdown",
      "metadata": {
        "id": "BrWAWOHiU4se"
      },
      "source": [
        "Por un lado, tenemos el constructor de la clase que admite como parámetro listas de valores. Por otro lado, existen diversas funciones que crean arrays. Veamos algunas."
      ]
    },
    {
      "cell_type": "code",
      "execution_count": 8,
      "metadata": {
        "colab": {
          "base_uri": "https://localhost:8080/"
        },
        "id": "ucb8dIPIU4se",
        "outputId": "d7dd2c34-1857-41ab-bf2f-96a15c2a0771"
      },
      "outputs": [
        {
          "output_type": "execute_result",
          "data": {
            "text/plain": [
              "array([1, 2, 3, 4])"
            ]
          },
          "metadata": {},
          "execution_count": 8
        }
      ],
      "source": [
        "np.array([1,2,3,4])"
      ]
    },
    {
      "cell_type": "code",
      "execution_count": 9,
      "metadata": {
        "colab": {
          "base_uri": "https://localhost:8080/"
        },
        "id": "HRVHSvDeU4se",
        "outputId": "38dbb73b-f814-4b76-d6d0-a5baae381549"
      },
      "outputs": [
        {
          "output_type": "execute_result",
          "data": {
            "text/plain": [
              "array([10, 12, 14, 16, 18, 20, 22, 24, 26, 28])"
            ]
          },
          "metadata": {},
          "execution_count": 9
        }
      ],
      "source": [
        "np.arange(10,30,2)"
      ]
    },
    {
      "cell_type": "code",
      "execution_count": 10,
      "metadata": {
        "colab": {
          "base_uri": "https://localhost:8080/"
        },
        "id": "x2x_vXejU4se",
        "outputId": "2262a5f2-73a6-4459-8f88-531f9de515e1"
      },
      "outputs": [
        {
          "output_type": "execute_result",
          "data": {
            "text/plain": [
              "array([0.1       , 0.23333333, 0.36666667, 0.5       ])"
            ]
          },
          "metadata": {},
          "execution_count": 10
        }
      ],
      "source": [
        "np.linspace(0.1,0.5,4)"
      ]
    },
    {
      "cell_type": "code",
      "execution_count": 11,
      "metadata": {
        "colab": {
          "base_uri": "https://localhost:8080/"
        },
        "id": "656rvkyYU4sf",
        "outputId": "f679fc40-4dd8-4c44-e5d3-6859ecf79509"
      },
      "outputs": [
        {
          "output_type": "execute_result",
          "data": {
            "text/plain": [
              "array([1.e+01, 1.e+02, 1.e+03, 1.e+04, 1.e+05, 1.e+06, 1.e+07, 1.e+08,\n",
              "       1.e+09, 1.e+10])"
            ]
          },
          "metadata": {},
          "execution_count": 11
        }
      ],
      "source": [
        "np.logspace(1,10,10)"
      ]
    },
    {
      "cell_type": "code",
      "execution_count": 12,
      "metadata": {
        "colab": {
          "base_uri": "https://localhost:8080/"
        },
        "id": "aXgzDkSlU4sf",
        "outputId": "784ddb54-20e7-4c34-f1e9-b6dc8699ce73"
      },
      "outputs": [
        {
          "output_type": "execute_result",
          "data": {
            "text/plain": [
              "array([[0., 0.],\n",
              "       [0., 0.],\n",
              "       [0., 0.]])"
            ]
          },
          "metadata": {},
          "execution_count": 12
        }
      ],
      "source": [
        "np.zeros((3,2))"
      ]
    },
    {
      "cell_type": "code",
      "execution_count": 13,
      "metadata": {
        "colab": {
          "base_uri": "https://localhost:8080/"
        },
        "id": "a8hJy73uU4sf",
        "outputId": "6593d19f-4bae-4c7d-82c6-c967efaa8d9f"
      },
      "outputs": [
        {
          "output_type": "execute_result",
          "data": {
            "text/plain": [
              "array([[1., 1., 1.],\n",
              "       [1., 1., 1.]])"
            ]
          },
          "metadata": {},
          "execution_count": 13
        }
      ],
      "source": [
        "np.ones((2,3))"
      ]
    },
    {
      "cell_type": "code",
      "execution_count": 14,
      "metadata": {
        "colab": {
          "base_uri": "https://localhost:8080/"
        },
        "id": "CXOuKCBAhT-R",
        "outputId": "448c1475-8a79-4d6a-a5b9-8cada550dde1"
      },
      "outputs": [
        {
          "output_type": "execute_result",
          "data": {
            "text/plain": [
              "array([[0.08031945, 0.96536731],\n",
              "       [0.2995355 , 0.72465534],\n",
              "       [0.7486693 , 0.08176113]])"
            ]
          },
          "metadata": {},
          "execution_count": 14
        }
      ],
      "source": [
        "np.random.rand(3,2) # random entre 0 y 1"
      ]
    },
    {
      "cell_type": "code",
      "execution_count": 15,
      "metadata": {
        "colab": {
          "base_uri": "https://localhost:8080/"
        },
        "id": "IppJwl9UhZde",
        "outputId": "d2d86b6d-72eb-4ad2-ae96-dc5be3ffc002"
      },
      "outputs": [
        {
          "output_type": "execute_result",
          "data": {
            "text/plain": [
              "array([[2, 4],\n",
              "       [4, 9],\n",
              "       [3, 4]])"
            ]
          },
          "metadata": {},
          "execution_count": 15
        }
      ],
      "source": [
        "np.random.randint(1,10,(3,2)) # enteros random entre [1 y 10)"
      ]
    },
    {
      "cell_type": "code",
      "execution_count": 16,
      "metadata": {
        "colab": {
          "base_uri": "https://localhost:8080/"
        },
        "id": "hSRDkakvU4sf",
        "outputId": "b4bf121f-4f3d-4178-963b-220d51b57155"
      },
      "outputs": [
        {
          "output_type": "execute_result",
          "data": {
            "text/plain": [
              "array([[-0.33794441, -0.29015993],\n",
              "       [-0.35262179,  0.63839866],\n",
              "       [-0.66391258,  1.51840238],\n",
              "       [-0.4024298 ,  0.08931352],\n",
              "       [-1.0678325 ,  0.71460577],\n",
              "       [ 1.85413734,  0.57822209],\n",
              "       [-0.18609871,  0.6238787 ],\n",
              "       [-0.70990031, -1.32505207]])"
            ]
          },
          "metadata": {},
          "execution_count": 16
        }
      ],
      "source": [
        "np.random.standard_normal((8,2))"
      ]
    },
    {
      "cell_type": "markdown",
      "metadata": {
        "id": "miDJcz_GFBma"
      },
      "source": [
        "Propiedades de un arreglo"
      ]
    },
    {
      "cell_type": "code",
      "execution_count": 17,
      "metadata": {
        "colab": {
          "base_uri": "https://localhost:8080/"
        },
        "id": "RGsIfaEOFDyD",
        "outputId": "22db2987-50f1-45a7-a17d-12c8ccc33ac0"
      },
      "outputs": [
        {
          "output_type": "stream",
          "name": "stdout",
          "text": [
            "dimensiones:  (2, 3)\n",
            "cantidad de dimensiones:  2\n",
            "cantidad de elementos:  6\n",
            "tipo:  float64\n"
          ]
        }
      ],
      "source": [
        "an_array = np.ones((2,3))\n",
        "print('dimensiones: ', an_array.shape)\n",
        "print('cantidad de dimensiones: ', an_array.ndim)\n",
        "print('cantidad de elementos: ', an_array.size)\n",
        "print('tipo: ', an_array.dtype)"
      ]
    },
    {
      "cell_type": "markdown",
      "metadata": {
        "id": "vdipe8b9EqRp"
      },
      "source": [
        "Se puede cambiar el tipo de un array"
      ]
    },
    {
      "cell_type": "code",
      "execution_count": 18,
      "metadata": {
        "colab": {
          "base_uri": "https://localhost:8080/"
        },
        "id": "WcAjlxQdEs_O",
        "outputId": "4549ac16-c777-4383-fc71-5257f2e90c49"
      },
      "outputs": [
        {
          "output_type": "execute_result",
          "data": {
            "text/plain": [
              "array([0. , 0.5, 1. , 1.5, 2. , 2.5, 3. , 3.5, 4. , 4.5, 5. , 5.5, 6. ,\n",
              "       6.5, 7. , 7.5, 8. , 8.5, 9. , 9.5])"
            ]
          },
          "metadata": {},
          "execution_count": 18
        }
      ],
      "source": [
        "np.arange(0,10,0.5)"
      ]
    },
    {
      "cell_type": "code",
      "execution_count": 19,
      "metadata": {
        "colab": {
          "base_uri": "https://localhost:8080/"
        },
        "id": "sQha4U_kEw_E",
        "outputId": "a97f2c5d-7af5-405e-8e92-8840e56a27f0"
      },
      "outputs": [
        {
          "output_type": "execute_result",
          "data": {
            "text/plain": [
              "array([0, 0, 1, 1, 2, 2, 3, 3, 4, 4, 5, 5, 6, 6, 7, 7, 8, 8, 9, 9],\n",
              "      dtype=int32)"
            ]
          },
          "metadata": {},
          "execution_count": 19
        }
      ],
      "source": [
        "np.arange(0,10,0.5).astype(np.int32)"
      ]
    },
    {
      "cell_type": "markdown",
      "metadata": {
        "id": "1OY73h_fU4sa"
      },
      "source": [
        "## Matrices"
      ]
    },
    {
      "cell_type": "markdown",
      "metadata": {
        "id": "HyURVXvPU4sb"
      },
      "source": [
        "Las matrices no son más que array con 2 dimensiones. Si bien existe un tipo específico para matrices en numpy cayó en desuso (y obsolescencia)."
      ]
    },
    {
      "cell_type": "code",
      "execution_count": 20,
      "metadata": {
        "colab": {
          "base_uri": "https://localhost:8080/"
        },
        "id": "PcUdgL_8U4sb",
        "outputId": "53715659-0878-498e-ded1-542b338d6e85"
      },
      "outputs": [
        {
          "output_type": "execute_result",
          "data": {
            "text/plain": [
              "array([[ 0,  1,  2,  3],\n",
              "       [ 4,  5,  6,  7],\n",
              "       [ 8,  9, 10, 11],\n",
              "       [12, 13, 14, 15]])"
            ]
          },
          "metadata": {},
          "execution_count": 20
        }
      ],
      "source": [
        "a_matrix = np.array([[ 0,  1,  2,  3],\n",
        "                    [ 4,  5,  6,  7],\n",
        "                    [ 8,  9, 10, 11],\n",
        "                    [12, 13, 14, 15]])\n",
        "a_matrix"
      ]
    },
    {
      "cell_type": "code",
      "execution_count": 21,
      "metadata": {
        "colab": {
          "base_uri": "https://localhost:8080/"
        },
        "id": "SLvmg8s9U4sb",
        "outputId": "a8d2dd6c-d0f3-4f70-f34d-c6112126eed0"
      },
      "outputs": [
        {
          "output_type": "stream",
          "name": "stdout",
          "text": [
            "(4, 4) 2 16 int64\n"
          ]
        }
      ],
      "source": [
        "print(a_matrix.shape, a_matrix.ndim, a_matrix.size, a_matrix.dtype)"
      ]
    },
    {
      "cell_type": "markdown",
      "metadata": {
        "id": "tWyR3FUUfce0"
      },
      "source": [
        "### Matrices especiales"
      ]
    },
    {
      "cell_type": "code",
      "execution_count": 22,
      "metadata": {
        "colab": {
          "base_uri": "https://localhost:8080/"
        },
        "id": "Z0pM2MiIfbxR",
        "outputId": "5b587038-7224-462a-8728-a47d8f8f326b"
      },
      "outputs": [
        {
          "output_type": "execute_result",
          "data": {
            "text/plain": [
              "array([[1., 0., 0.],\n",
              "       [0., 1., 0.],\n",
              "       [0., 0., 1.]])"
            ]
          },
          "metadata": {},
          "execution_count": 22
        }
      ],
      "source": [
        "np.eye(3) # Identidad de 3x3"
      ]
    },
    {
      "cell_type": "code",
      "execution_count": 23,
      "metadata": {
        "colab": {
          "base_uri": "https://localhost:8080/"
        },
        "id": "lXKZM93ffgk5",
        "outputId": "769a79a4-af9c-4dc8-cfc7-6bb8e5aaca8f"
      },
      "outputs": [
        {
          "output_type": "execute_result",
          "data": {
            "text/plain": [
              "array([[77,  0],\n",
              "       [ 0, 90]])"
            ]
          },
          "metadata": {},
          "execution_count": 23
        }
      ],
      "source": [
        "np.diag([77,90]) # Matriz diagonal"
      ]
    },
    {
      "cell_type": "code",
      "execution_count": 24,
      "metadata": {
        "colab": {
          "base_uri": "https://localhost:8080/"
        },
        "id": "JOXxw5dSfjvV",
        "outputId": "af75bb98-9be8-48a8-bc74-771a3d23ed42"
      },
      "outputs": [
        {
          "output_type": "execute_result",
          "data": {
            "text/plain": [
              "array([[0., 1., 0., 0.],\n",
              "       [0., 0., 1., 0.],\n",
              "       [0., 0., 0., 1.],\n",
              "       [0., 0., 0., 0.]])"
            ]
          },
          "metadata": {},
          "execution_count": 24
        }
      ],
      "source": [
        "np.diag(np.ones(3),1) # Superdiagonal 1 (desplazado// np.ones(3) devuelve un vector [1,1,1]"
      ]
    },
    {
      "cell_type": "code",
      "execution_count": 25,
      "metadata": {
        "colab": {
          "base_uri": "https://localhost:8080/"
        },
        "id": "MtF_sDXGFTwa",
        "outputId": "fde28e50-edcd-4b03-de9e-6ee91a30014b"
      },
      "outputs": [
        {
          "output_type": "execute_result",
          "data": {
            "text/plain": [
              "array([[ 1,  0,  0,  0],\n",
              "       [ 1,  1,  1,  1],\n",
              "       [ 1,  2,  4,  8],\n",
              "       [ 1,  3,  9, 27]])"
            ]
          },
          "metadata": {},
          "execution_count": 25
        }
      ],
      "source": [
        "np.vander(np.arange(4),increasing=True) # Matriz de Vandermonde (veremos al final de la materia qué significa)"
      ]
    },
    {
      "cell_type": "markdown",
      "metadata": {
        "id": "V5UvvqhfU4sb"
      },
      "source": [
        "## Cambio de dimensiones"
      ]
    },
    {
      "cell_type": "markdown",
      "metadata": {
        "id": "5zEVl7LIU4sc"
      },
      "source": [
        "Algunos métodos que modifican las dimensiones:\n",
        "* reshape: Devuelve un nuevo array con las dimensiones indicadas como\n",
        "parámetro. Si alguno de los parámetros es igual a -1, se calculan las\n",
        "dimensiones para que sea factible el cambio.\n",
        "\n",
        "* resize: el mismo efecto que “reshape” pero modifica el array en vez de devolver\n",
        "uno nuevo.\n",
        "\n",
        "* T: sirve para transponer una matriz.\n",
        "\n",
        "* ravel, flattened: “aplana” el array devolviendo todo en una sola dimensión."
      ]
    },
    {
      "cell_type": "code",
      "execution_count": 26,
      "metadata": {
        "colab": {
          "base_uri": "https://localhost:8080/"
        },
        "id": "dAFXPhu8U4sc",
        "outputId": "e6f4ae73-44e3-485c-c359-e55b7bd5c496"
      },
      "outputs": [
        {
          "output_type": "execute_result",
          "data": {
            "text/plain": [
              "array([[ 0,  1,  2,  3],\n",
              "       [ 4,  5,  6,  7],\n",
              "       [ 8,  9, 10, 11],\n",
              "       [12, 13, 14, 15]])"
            ]
          },
          "metadata": {},
          "execution_count": 26
        }
      ],
      "source": [
        "a_matrix"
      ]
    },
    {
      "cell_type": "code",
      "execution_count": 27,
      "metadata": {
        "colab": {
          "base_uri": "https://localhost:8080/"
        },
        "id": "-svcbLXgx5Gl",
        "outputId": "2d54d9ab-0b6b-4e9d-b1c1-a0ce0f1b3010"
      },
      "outputs": [
        {
          "output_type": "execute_result",
          "data": {
            "text/plain": [
              "array([[ 0,  1,  2,  3,  4,  5,  6,  7,  8,  9, 10, 11, 12, 13, 14, 15]])"
            ]
          },
          "metadata": {},
          "execution_count": 27
        }
      ],
      "source": [
        "a_matrix.reshape(1,16)"
      ]
    },
    {
      "cell_type": "code",
      "execution_count": 28,
      "metadata": {
        "colab": {
          "base_uri": "https://localhost:8080/"
        },
        "id": "XTbvbLN0U4sd",
        "outputId": "3551bc60-b33d-40aa-d2a3-dbf02bad27dd"
      },
      "outputs": [
        {
          "output_type": "execute_result",
          "data": {
            "text/plain": [
              "array([[ 0,  4,  8, 12],\n",
              "       [ 1,  5,  9, 13],\n",
              "       [ 2,  6, 10, 14],\n",
              "       [ 3,  7, 11, 15]])"
            ]
          },
          "metadata": {},
          "execution_count": 28
        }
      ],
      "source": [
        "a_matrix.T"
      ]
    },
    {
      "cell_type": "code",
      "execution_count": 29,
      "metadata": {
        "colab": {
          "base_uri": "https://localhost:8080/"
        },
        "id": "1-ycmi3SU4sd",
        "outputId": "571b361f-c674-45a8-e38d-66414a587959"
      },
      "outputs": [
        {
          "output_type": "execute_result",
          "data": {
            "text/plain": [
              "array([ 0,  1,  2,  3,  4,  5,  6,  7,  8,  9, 10, 11, 12, 13, 14, 15])"
            ]
          },
          "metadata": {},
          "execution_count": 29
        }
      ],
      "source": [
        "a_matrix.ravel()"
      ]
    },
    {
      "cell_type": "code",
      "execution_count": 30,
      "metadata": {
        "colab": {
          "base_uri": "https://localhost:8080/"
        },
        "id": "MwuSJ0pGU4sc",
        "outputId": "e265f094-6a06-491e-ff7b-8b388d3e78ff"
      },
      "outputs": [
        {
          "output_type": "execute_result",
          "data": {
            "text/plain": [
              "array([[ 0,  1,  2,  3,  4,  5,  6,  7,  8,  9, 10, 11, 12, 13, 14, 15]])"
            ]
          },
          "metadata": {},
          "execution_count": 30
        }
      ],
      "source": [
        "a_matrix.resize(1,16)\n",
        "a_matrix"
      ]
    },
    {
      "cell_type": "markdown",
      "metadata": {
        "id": "D6F6Pyk2U4sf"
      },
      "source": [
        "## Operaciones con arrays"
      ]
    },
    {
      "cell_type": "markdown",
      "metadata": {
        "id": "dwWHmax9U4sf"
      },
      "source": [
        "Existen muchísimas operaciones definidas para arrays."
      ]
    },
    {
      "cell_type": "markdown",
      "metadata": {
        "id": "kWcBRtObU4sf"
      },
      "source": [
        "### Operadores básicos\n",
        "\n",
        "Los operadores básicos de sumas, restas, potencias, etc se encuentran sobrecargados."
      ]
    },
    {
      "cell_type": "code",
      "execution_count": 31,
      "metadata": {
        "colab": {
          "base_uri": "https://localhost:8080/"
        },
        "id": "bHvMHmswU4sg",
        "outputId": "64f4a82d-6d9b-435e-fc6f-8dc7e773615b"
      },
      "outputs": [
        {
          "output_type": "execute_result",
          "data": {
            "text/plain": [
              "(array([1, 2, 3, 4, 5, 6]), array([1., 1., 1., 1., 1., 1.]))"
            ]
          },
          "metadata": {},
          "execution_count": 31
        }
      ],
      "source": [
        "v = np.arange(1,7)\n",
        "w = np.ones(6)\n",
        "v, w"
      ]
    },
    {
      "cell_type": "code",
      "execution_count": 32,
      "metadata": {
        "colab": {
          "base_uri": "https://localhost:8080/"
        },
        "id": "Std_KFLGU4sg",
        "outputId": "80dd829e-3fc0-4043-efc8-4959a8001c30"
      },
      "outputs": [
        {
          "output_type": "execute_result",
          "data": {
            "text/plain": [
              "array([2., 3., 4., 5., 6., 7.])"
            ]
          },
          "metadata": {},
          "execution_count": 32
        }
      ],
      "source": [
        "v + w"
      ]
    },
    {
      "cell_type": "code",
      "execution_count": 33,
      "metadata": {
        "colab": {
          "base_uri": "https://localhost:8080/"
        },
        "id": "u9JzxPbYFsT6",
        "outputId": "35611fc0-57bb-42a3-bd96-51a65d9ada2c"
      },
      "outputs": [
        {
          "output_type": "execute_result",
          "data": {
            "text/plain": [
              "array([False,  True,  True,  True,  True,  True])"
            ]
          },
          "metadata": {},
          "execution_count": 33
        }
      ],
      "source": [
        "v > w"
      ]
    },
    {
      "cell_type": "code",
      "execution_count": 34,
      "metadata": {
        "colab": {
          "base_uri": "https://localhost:8080/"
        },
        "id": "WbZw3saEU4sg",
        "outputId": "a012dca6-d8b2-4eef-8aa7-f8cad129db5c"
      },
      "outputs": [
        {
          "output_type": "execute_result",
          "data": {
            "text/plain": [
              "array([0., 1., 2., 3., 4., 5.])"
            ]
          },
          "metadata": {},
          "execution_count": 34
        }
      ],
      "source": [
        "v - w"
      ]
    },
    {
      "cell_type": "code",
      "execution_count": 35,
      "metadata": {
        "colab": {
          "base_uri": "https://localhost:8080/"
        },
        "id": "CquY5gv4U4sg",
        "outputId": "b1ce2260-f275-4016-b1ed-c5a4f2fb772b"
      },
      "outputs": [
        {
          "output_type": "execute_result",
          "data": {
            "text/plain": [
              "array([ 1,  4,  9, 16, 25, 36])"
            ]
          },
          "metadata": {},
          "execution_count": 35
        }
      ],
      "source": [
        "v ** 2"
      ]
    },
    {
      "cell_type": "code",
      "execution_count": 36,
      "metadata": {
        "colab": {
          "base_uri": "https://localhost:8080/"
        },
        "id": "TtZELem1U4sg",
        "outputId": "b03a3656-c25c-4769-fee2-3430e10135fd"
      },
      "outputs": [
        {
          "output_type": "execute_result",
          "data": {
            "text/plain": [
              "array([1.        , 1.41421356, 1.73205081, 2.        , 2.23606798,\n",
              "       2.44948974])"
            ]
          },
          "metadata": {},
          "execution_count": 36
        }
      ],
      "source": [
        "np.sqrt(v)"
      ]
    },
    {
      "cell_type": "code",
      "execution_count": 37,
      "metadata": {
        "colab": {
          "base_uri": "https://localhost:8080/"
        },
        "id": "wl9i19HIU4sg",
        "outputId": "a0233d34-00bb-4a5d-d679-b19de8ec4f16"
      },
      "outputs": [
        {
          "output_type": "stream",
          "name": "stdout",
          "text": [
            "[ 0.84147098  0.90929743  0.14112001 -0.7568025  -0.95892427 -0.2794155 ] \n",
            " [ 0.54030231 -0.41614684 -0.9899925  -0.65364362  0.28366219  0.96017029] \n",
            " [ 0. -1. -1. -1.  0.  0.] \n",
            " [ 1. -0. -1. -1.  0.  1.]\n"
          ]
        }
      ],
      "source": [
        "print(np.sin(v), \"\\n\", np.cos(v), \"\\n\", np.floor(np.cos(v)), \"\\n\", np.round(np.cos(v)))"
      ]
    },
    {
      "cell_type": "markdown",
      "metadata": {
        "id": "M3gDPuIPU4sh"
      },
      "source": [
        "### Operaciones entre vectores"
      ]
    },
    {
      "cell_type": "code",
      "execution_count": 38,
      "metadata": {
        "colab": {
          "base_uri": "https://localhost:8080/"
        },
        "id": "MlIDOOMhU4sh",
        "outputId": "08dd799a-76a8-4f26-82b3-2214f3e8592c"
      },
      "outputs": [
        {
          "output_type": "execute_result",
          "data": {
            "text/plain": [
              "np.float64(21.0)"
            ]
          },
          "metadata": {},
          "execution_count": 38
        }
      ],
      "source": [
        "np.dot(v,w) #Producto iterno (o escalar)"
      ]
    },
    {
      "cell_type": "code",
      "execution_count": 39,
      "metadata": {
        "colab": {
          "base_uri": "https://localhost:8080/"
        },
        "id": "acpw7kRmU4sh",
        "outputId": "7da8196b-3ef5-400d-ac87-414c5edaf0dc"
      },
      "outputs": [
        {
          "output_type": "execute_result",
          "data": {
            "text/plain": [
              "array([[1., 1., 1., 1., 1., 1.],\n",
              "       [2., 2., 2., 2., 2., 2.],\n",
              "       [3., 3., 3., 3., 3., 3.],\n",
              "       [4., 4., 4., 4., 4., 4.],\n",
              "       [5., 5., 5., 5., 5., 5.],\n",
              "       [6., 6., 6., 6., 6., 6.]])"
            ]
          },
          "metadata": {},
          "execution_count": 39
        }
      ],
      "source": [
        "np.outer(v,w) #Producto externo"
      ]
    },
    {
      "cell_type": "markdown",
      "metadata": {
        "id": "xktWd52NU4sh"
      },
      "source": [
        "### Multiplicación de matrices\n",
        "\n",
        "Existe la multiplicación clásica entre matrices (con\n",
        "el símbolo @) o el producto elemento a elemento (producto Hadamard)"
      ]
    },
    {
      "cell_type": "code",
      "execution_count": 40,
      "metadata": {
        "id": "hhId4kMlU4sh",
        "colab": {
          "base_uri": "https://localhost:8080/"
        },
        "outputId": "e8913468-3fd0-4126-e2b4-6565246606da"
      },
      "outputs": [
        {
          "output_type": "execute_result",
          "data": {
            "text/plain": [
              "(array([[1, 2, 3],\n",
              "        [4, 5, 6],\n",
              "        [7, 8, 9]]),\n",
              " array([[1., 1., 1.],\n",
              "        [1., 1., 1.],\n",
              "        [1., 1., 1.]]))"
            ]
          },
          "metadata": {},
          "execution_count": 40
        }
      ],
      "source": [
        "M1 = np.arange(1,10).reshape(3,3)\n",
        "M2 = np.ones((3,3))\n",
        "M1, M2"
      ]
    },
    {
      "cell_type": "code",
      "execution_count": 41,
      "metadata": {
        "id": "ijp2xKTFU4sh",
        "colab": {
          "base_uri": "https://localhost:8080/"
        },
        "outputId": "1c9e6b3e-d167-4a43-d34e-d992bc03eb92"
      },
      "outputs": [
        {
          "output_type": "execute_result",
          "data": {
            "text/plain": [
              "array([[1., 2., 3.],\n",
              "       [4., 5., 6.],\n",
              "       [7., 8., 9.]])"
            ]
          },
          "metadata": {},
          "execution_count": 41
        }
      ],
      "source": [
        "M1 * M2 #Producto Hadamard o elemento a elemento"
      ]
    },
    {
      "cell_type": "code",
      "execution_count": 42,
      "metadata": {
        "id": "pMhIGrvlcYP-",
        "colab": {
          "base_uri": "https://localhost:8080/"
        },
        "outputId": "ae105422-ef13-49f7-e6ae-f8d771d7217c"
      },
      "outputs": [
        {
          "output_type": "execute_result",
          "data": {
            "text/plain": [
              "array([[ 6.,  6.,  6.],\n",
              "       [15., 15., 15.],\n",
              "       [24., 24., 24.]])"
            ]
          },
          "metadata": {},
          "execution_count": 42
        }
      ],
      "source": [
        "np.matmul(M1,M2) #Producto interno de matrices"
      ]
    },
    {
      "cell_type": "code",
      "execution_count": 43,
      "metadata": {
        "id": "PrQg7yZQU4si",
        "colab": {
          "base_uri": "https://localhost:8080/"
        },
        "outputId": "a9da148f-ea85-43bc-eaed-c524ec6d5da7"
      },
      "outputs": [
        {
          "output_type": "execute_result",
          "data": {
            "text/plain": [
              "array([[ 6.,  6.,  6.],\n",
              "       [15., 15., 15.],\n",
              "       [24., 24., 24.]])"
            ]
          },
          "metadata": {},
          "execution_count": 43
        }
      ],
      "source": [
        "M1 @ M2 #Producto interno de matrices"
      ]
    },
    {
      "cell_type": "markdown",
      "metadata": {
        "id": "4dAKsw5LU4si"
      },
      "source": [
        "**EJERCICIO**: Multiplicar $M_{1}v$ siendo $v = (1,1,1)$ como columna"
      ]
    },
    {
      "cell_type": "code",
      "execution_count": 44,
      "metadata": {
        "id": "sl9NNEG6U4si",
        "colab": {
          "base_uri": "https://localhost:8080/"
        },
        "outputId": "37766f53-01d4-4633-bbed-75630ce2b97e"
      },
      "outputs": [
        {
          "output_type": "stream",
          "name": "stdout",
          "text": [
            "v: [1. 1. 1.] \n",
            "v_col:\n",
            " [[1.]\n",
            " [1.]\n",
            " [1.]] \n",
            "M1:\n",
            " [[1 2 3]\n",
            " [4 5 6]\n",
            " [7 8 9]]\n",
            "Resultado:\n",
            " [ 6. 15. 24.]\n",
            "Resultado usando v_col:\n",
            " [[ 6.]\n",
            " [15.]\n",
            " [24.]]\n"
          ]
        }
      ],
      "source": [
        "v = np.ones(3)\n",
        "v_col = np.ones((3,1))\n",
        "print(\"v:\", v,\"\\nv_col:\\n\", v_col, \"\\nM1:\\n\", M1)\n",
        "print(\"Resultado:\\n\", (M1 @ v))\n",
        "print(\"Resultado usando v_col:\\n\", (M1 @ v_col))"
      ]
    },
    {
      "cell_type": "markdown",
      "metadata": {
        "id": "36ig2IzoU4sk"
      },
      "source": [
        "## [Indexación de arreglos](https://numpy.org/doc/stable/user/basics.indexing.html)"
      ]
    },
    {
      "cell_type": "markdown",
      "metadata": {
        "id": "vTPdzaLeU4sk"
      },
      "source": [
        "Los arrays en NumPy se pueden acceder a posiciones particulares o mediante 'slicing' de maneras parecidas a las listas nativas. Observar los siguientes comandos e interpretar."
      ]
    },
    {
      "cell_type": "code",
      "execution_count": 45,
      "metadata": {
        "id": "q2EThWzAU4sk",
        "colab": {
          "base_uri": "https://localhost:8080/"
        },
        "outputId": "ffcdfc55-e0e0-4b53-c436-4fffa8ea1b03"
      },
      "outputs": [
        {
          "output_type": "execute_result",
          "data": {
            "text/plain": [
              "array([ 0,  2,  4,  6,  8, 10, 12, 14, 16, 18, 20, 22, 24, 26, 28, 30, 32,\n",
              "       34, 36, 38])"
            ]
          },
          "metadata": {},
          "execution_count": 45
        }
      ],
      "source": [
        "an_array = np.arange(0,40,2)\n",
        "an_array"
      ]
    },
    {
      "cell_type": "code",
      "execution_count": 46,
      "metadata": {
        "id": "yxltsYSoU4sk",
        "colab": {
          "base_uri": "https://localhost:8080/"
        },
        "outputId": "6021e62b-8002-4890-bf65-1109541f6be4"
      },
      "outputs": [
        {
          "output_type": "execute_result",
          "data": {
            "text/plain": [
              "np.int64(12)"
            ]
          },
          "metadata": {},
          "execution_count": 46
        }
      ],
      "source": [
        "an_array[6]"
      ]
    },
    {
      "cell_type": "code",
      "execution_count": 47,
      "metadata": {
        "id": "RXuU03q_U4sk",
        "colab": {
          "base_uri": "https://localhost:8080/"
        },
        "outputId": "1311ddf0-a2f6-4bc5-eb98-1bcf7389c454"
      },
      "outputs": [
        {
          "output_type": "execute_result",
          "data": {
            "text/plain": [
              "array([ 4,  8, 12, 16, 20, 24, 28, 32])"
            ]
          },
          "metadata": {},
          "execution_count": 47
        }
      ],
      "source": [
        "start = 2\n",
        "end = 18\n",
        "step = 2\n",
        "\n",
        "an_array[start:end:step]"
      ]
    },
    {
      "cell_type": "code",
      "execution_count": 48,
      "metadata": {
        "id": "6y8TEsivU4sk",
        "colab": {
          "base_uri": "https://localhost:8080/"
        },
        "outputId": "300abc21-95f5-4de1-eeda-673de7de0d8b"
      },
      "outputs": [
        {
          "output_type": "execute_result",
          "data": {
            "text/plain": [
              "array([ 0,  2,  4,  6,  8, 10, 12, 14, 16, 18, 20, 22, 24, 26, 28, 30, 32,\n",
              "       34])"
            ]
          },
          "metadata": {},
          "execution_count": 48
        }
      ],
      "source": [
        "# Son equivalentes\n",
        "#an_array[0:end:]\n",
        "#an_array[:end:]\n",
        "an_array[:end]"
      ]
    },
    {
      "cell_type": "code",
      "execution_count": 49,
      "metadata": {
        "id": "HSfX35TfU4sk",
        "colab": {
          "base_uri": "https://localhost:8080/"
        },
        "outputId": "4f375554-385a-41ed-e940-7115ce850f92"
      },
      "outputs": [
        {
          "output_type": "execute_result",
          "data": {
            "text/plain": [
              "array([ 0,  2,  4,  6,  8, 10, 12, 14, 16, 18, 20, 22, 24, 26, 28, 30, 32,\n",
              "       34, 36])"
            ]
          },
          "metadata": {},
          "execution_count": 49
        }
      ],
      "source": [
        "an_array[:-1]"
      ]
    },
    {
      "cell_type": "code",
      "execution_count": 50,
      "metadata": {
        "id": "x1Ye-oiPU4sl",
        "colab": {
          "base_uri": "https://localhost:8080/"
        },
        "outputId": "29ad4668-e649-469b-c990-01dd351fc77d"
      },
      "outputs": [
        {
          "output_type": "execute_result",
          "data": {
            "text/plain": [
              "array([ 0,  2,  4,  6,  8, 10, 12, 14, 16, 18, 20, 22, 24, 26, 28, 30, 32,\n",
              "       34, 36, 38])"
            ]
          },
          "metadata": {},
          "execution_count": 50
        }
      ],
      "source": [
        "an_array[::]"
      ]
    },
    {
      "cell_type": "code",
      "execution_count": 51,
      "metadata": {
        "id": "1zzPz4kHU4sl",
        "colab": {
          "base_uri": "https://localhost:8080/"
        },
        "outputId": "f4ab0309-bf3f-4d4d-89d3-97ae508c7b2f"
      },
      "outputs": [
        {
          "output_type": "execute_result",
          "data": {
            "text/plain": [
              "array([38, 36, 34, 32, 30, 28, 26, 24, 22, 20, 18, 16, 14, 12, 10,  8,  6,\n",
              "        4,  2,  0])"
            ]
          },
          "metadata": {},
          "execution_count": 51
        }
      ],
      "source": [
        "an_array[::-1]"
      ]
    },
    {
      "cell_type": "code",
      "execution_count": 52,
      "metadata": {
        "id": "vX5OYJwvU4sl",
        "colab": {
          "base_uri": "https://localhost:8080/"
        },
        "outputId": "54854773-2c2e-44e0-bd90-05eddfb7b6e0"
      },
      "outputs": [
        {
          "output_type": "stream",
          "name": "stdout",
          "text": [
            "0\n",
            "2\n",
            "4\n",
            "6\n",
            "8\n"
          ]
        }
      ],
      "source": [
        "for element in an_array[:5]:\n",
        "    print(element)"
      ]
    },
    {
      "cell_type": "code",
      "execution_count": 53,
      "metadata": {
        "id": "QQdKq34QU4sl",
        "colab": {
          "base_uri": "https://localhost:8080/"
        },
        "outputId": "04d8b228-a081-4a00-ffd9-42bd4bc5b697"
      },
      "outputs": [
        {
          "output_type": "execute_result",
          "data": {
            "text/plain": [
              "array([[ 0,  1,  2,  3],\n",
              "       [ 4,  5,  6,  7],\n",
              "       [ 8,  9, 10, 11],\n",
              "       [12, 13, 14, 15]])"
            ]
          },
          "metadata": {},
          "execution_count": 53
        }
      ],
      "source": [
        "a_matrix = np.arange(16).reshape((4,4))\n",
        "a_matrix"
      ]
    },
    {
      "cell_type": "code",
      "execution_count": 54,
      "metadata": {
        "id": "kb2VT3sTU4sl",
        "colab": {
          "base_uri": "https://localhost:8080/"
        },
        "outputId": "a3b776b2-5157-433e-ae86-344aeed6f06d"
      },
      "outputs": [
        {
          "output_type": "execute_result",
          "data": {
            "text/plain": [
              "array([ 2,  6, 10, 14])"
            ]
          },
          "metadata": {},
          "execution_count": 54
        }
      ],
      "source": [
        "a_matrix[:,2]"
      ]
    },
    {
      "cell_type": "code",
      "execution_count": 55,
      "metadata": {
        "id": "UaiH5sWNU4sl",
        "colab": {
          "base_uri": "https://localhost:8080/"
        },
        "outputId": "10654612-6651-42e0-8949-b951895f450d"
      },
      "outputs": [
        {
          "output_type": "execute_result",
          "data": {
            "text/plain": [
              "array([[ 1,  2],\n",
              "       [ 5,  6],\n",
              "       [ 9, 10],\n",
              "       [13, 14]])"
            ]
          },
          "metadata": {},
          "execution_count": 55
        }
      ],
      "source": [
        "a_matrix[:,1:3]"
      ]
    },
    {
      "cell_type": "code",
      "execution_count": 56,
      "metadata": {
        "id": "FgrP1CgMU4sl",
        "colab": {
          "base_uri": "https://localhost:8080/"
        },
        "outputId": "25ecc478-c184-4667-bee2-a84126c0d2c1"
      },
      "outputs": [
        {
          "output_type": "execute_result",
          "data": {
            "text/plain": [
              "array([12, 13, 14, 15])"
            ]
          },
          "metadata": {},
          "execution_count": 56
        }
      ],
      "source": [
        "a_matrix[-1,:]"
      ]
    },
    {
      "cell_type": "code",
      "execution_count": 57,
      "metadata": {
        "id": "AwjWFp7VU4sl",
        "colab": {
          "base_uri": "https://localhost:8080/"
        },
        "outputId": "32a85048-5acc-4daa-f092-89dc935681e7"
      },
      "outputs": [
        {
          "output_type": "stream",
          "name": "stdout",
          "text": [
            "[0 1 2 3]\n",
            "[4 5 6 7]\n",
            "[ 8  9 10 11]\n",
            "[12 13 14 15]\n"
          ]
        }
      ],
      "source": [
        "for row in a_matrix:\n",
        "    print(row)"
      ]
    },
    {
      "cell_type": "code",
      "execution_count": 58,
      "metadata": {
        "id": "fUvNvhKRecIR",
        "colab": {
          "base_uri": "https://localhost:8080/"
        },
        "outputId": "037b7df7-c0e5-4624-ec55-727874a55d9f"
      },
      "outputs": [
        {
          "output_type": "execute_result",
          "data": {
            "text/plain": [
              "array([[ 6,  7],\n",
              "       [10, 11]])"
            ]
          },
          "metadata": {},
          "execution_count": 58
        }
      ],
      "source": [
        "a_matrix[1:3,2:4]"
      ]
    },
    {
      "cell_type": "markdown",
      "metadata": {
        "id": "yF0Ejzemz39I"
      },
      "source": [
        "## Máscaras\n",
        "\n",
        "Es posible seleccionar elementos de un arreglo utilizando como índice otro arreglo de booleanos. Esto es mucho más eficiente que realizar un ciclo que recorra todo el arreglo y ejecute una condición en cada posición."
      ]
    },
    {
      "cell_type": "code",
      "execution_count": 155,
      "metadata": {
        "id": "OCWHROmU089z",
        "colab": {
          "base_uri": "https://localhost:8080/"
        },
        "outputId": "310a56f1-fa65-4807-df34-32a756ca0ecb"
      },
      "outputs": [
        {
          "output_type": "execute_result",
          "data": {
            "text/plain": [
              "array([1, 2])"
            ]
          },
          "metadata": {},
          "execution_count": 155
        }
      ],
      "source": [
        "import time\n",
        "\n",
        "an_array = np.arange(4)\n",
        "mask = np.array([False,True,True,False])\n",
        "an_array[mask]"
      ]
    },
    {
      "cell_type": "markdown",
      "metadata": {
        "id": "1FN1XZVX1OUt"
      },
      "source": [
        "Las operaciones con máscaras son más rápidas que operar elemento a elemento con condiciones"
      ]
    },
    {
      "cell_type": "code",
      "execution_count": 166,
      "metadata": {
        "id": "l5WLTWfzz5_0",
        "colab": {
          "base_uri": "https://localhost:8080/"
        },
        "outputId": "6f064f7a-5c8b-4bae-c78f-244b3f16d365"
      },
      "outputs": [
        {
          "output_type": "execute_result",
          "data": {
            "text/plain": [
              "array([ 0,  1,  2,  3,  4,  5,  6,  7,  8,  9, 10, 11, 12, 13, 14, 15, 16,\n",
              "       17, 18, 19, 20, 21, 22, 23, 24, 25, 26, 27, 28, 29, 30, 31, 32, 33,\n",
              "       34, 35, 36, 37, 38, 39, 40, 41, 42, 43, 44, 45, 46, 47, 48, 49, 50,\n",
              "       51, 52, 53, 54, 55, 56, 57, 58, 59, 60, 61, 62, 63, 64, 65, 66, 67,\n",
              "       68, 69, 70, 71, 72, 73, 74, 75, 76, 77, 78, 79, 80, 81, 82, 83, 84,\n",
              "       85, 86, 87, 88, 89, 90, 91, 92, 93, 94, 95, 96, 97, 98, 99])"
            ]
          },
          "metadata": {},
          "execution_count": 166
        }
      ],
      "source": [
        "an_array = np.arange(100)\n",
        "an_array"
      ]
    },
    {
      "cell_type": "code",
      "execution_count": 167,
      "metadata": {
        "id": "8C9Z5Uh50Zy5",
        "colab": {
          "base_uri": "https://localhost:8080/"
        },
        "outputId": "4982c864-5373-4854-aca5-0b1d8befdaab"
      },
      "outputs": [
        {
          "output_type": "execute_result",
          "data": {
            "text/plain": [
              "array([51, 52, 53, 54, 55, 56, 57, 58, 59, 60, 61, 62, 63, 64, 65, 66, 67,\n",
              "       68, 69, 70, 71, 72, 73, 74, 75, 76, 77, 78, 79, 80, 81, 82, 83, 84,\n",
              "       85, 86, 87, 88, 89, 90, 91, 92, 93, 94, 95, 96, 97, 98, 99])"
            ]
          },
          "metadata": {},
          "execution_count": 167
        }
      ],
      "source": [
        "np.array([x for x in an_array if x>50])"
      ]
    },
    {
      "cell_type": "code",
      "execution_count": 168,
      "metadata": {
        "id": "BlnIbkeXz9Ze",
        "colab": {
          "base_uri": "https://localhost:8080/"
        },
        "outputId": "307580f4-8208-46d0-faa9-eb54f71b8ca7"
      },
      "outputs": [
        {
          "output_type": "execute_result",
          "data": {
            "text/plain": [
              "array([51, 52, 53, 54, 55, 56, 57, 58, 59, 60, 61, 62, 63, 64, 65, 66, 67,\n",
              "       68, 69, 70, 71, 72, 73, 74, 75, 76, 77, 78, 79, 80, 81, 82, 83, 84,\n",
              "       85, 86, 87, 88, 89, 90, 91, 92, 93, 94, 95, 96, 97, 98, 99])"
            ]
          },
          "metadata": {},
          "execution_count": 168
        }
      ],
      "source": [
        "an_array[an_array>50]"
      ]
    },
    {
      "cell_type": "code",
      "execution_count": 169,
      "metadata": {
        "id": "RMzoSdWW0EMh",
        "colab": {
          "base_uri": "https://localhost:8080/"
        },
        "outputId": "91fe861d-1b6c-4f6b-9ccc-3ad25c8a1a00"
      },
      "outputs": [
        {
          "output_type": "stream",
          "name": "stdout",
          "text": [
            "19.1 µs ± 4.24 µs per loop (mean ± std. dev. of 7 runs, 100000 loops each)\n"
          ]
        }
      ],
      "source": [
        "%timeit np.array([x for x in an_array if x>50])"
      ]
    },
    {
      "cell_type": "code",
      "execution_count": 170,
      "metadata": {
        "id": "8XK_HfVo0BG_",
        "colab": {
          "base_uri": "https://localhost:8080/"
        },
        "outputId": "08d08ae7-d96c-48b0-a71c-b8cec3d2dd12"
      },
      "outputs": [
        {
          "output_type": "stream",
          "name": "stdout",
          "text": [
            "3.45 µs ± 107 ns per loop (mean ± std. dev. of 7 runs, 100000 loops each)\n"
          ]
        }
      ],
      "source": [
        "%timeit an_array[an_array>50]"
      ]
    },
    {
      "cell_type": "markdown",
      "metadata": {
        "id": "IxY0gwMbU4sm"
      },
      "source": [
        "## Tipos de asignación"
      ]
    },
    {
      "cell_type": "markdown",
      "metadata": {
        "id": "dQf-TooVU4sm"
      },
      "source": [
        "### Referencia"
      ]
    },
    {
      "cell_type": "code",
      "execution_count": 171,
      "metadata": {
        "id": "6qJfUkAmU4sm",
        "colab": {
          "base_uri": "https://localhost:8080/"
        },
        "outputId": "fff7b284-8390-427a-ea02-f8598ff34f9d"
      },
      "outputs": [
        {
          "output_type": "execute_result",
          "data": {
            "text/plain": [
              "array([0, 1, 2, 3, 4, 5, 6, 7, 8, 9])"
            ]
          },
          "metadata": {},
          "execution_count": 171
        }
      ],
      "source": [
        "an_array = np.arange(10)\n",
        "an_array"
      ]
    },
    {
      "cell_type": "code",
      "execution_count": 173,
      "metadata": {
        "id": "urvep9JKU4sn"
      },
      "outputs": [],
      "source": [
        "another_array = an_array"
      ]
    },
    {
      "cell_type": "code",
      "execution_count": 67,
      "metadata": {
        "id": "jfRToKcbU4sn",
        "colab": {
          "base_uri": "https://localhost:8080/"
        },
        "outputId": "3e10519f-4924-4d7c-c576-4f6f298bf065"
      },
      "outputs": [
        {
          "output_type": "execute_result",
          "data": {
            "text/plain": [
              "array([0, 1, 2, 8, 4, 5, 6, 7, 8, 9])"
            ]
          },
          "metadata": {},
          "execution_count": 67
        }
      ],
      "source": [
        "another_array[3] = 8\n",
        "an_array"
      ]
    },
    {
      "cell_type": "markdown",
      "metadata": {
        "id": "V9cu9HB8U4sn"
      },
      "source": [
        "### [Vista](https://numpy.org/doc/stable/user/basics.copies.html)"
      ]
    },
    {
      "cell_type": "code",
      "execution_count": 182,
      "metadata": {
        "id": "yGrziPStU4sn",
        "colab": {
          "base_uri": "https://localhost:8080/"
        },
        "outputId": "1b234bc0-8f77-437e-bcf5-64f9a17dfcbe"
      },
      "outputs": [
        {
          "output_type": "execute_result",
          "data": {
            "text/plain": [
              "array([0, 1, 2, 3, 4, 5, 6, 7, 8, 9])"
            ]
          },
          "metadata": {},
          "execution_count": 182
        }
      ],
      "source": [
        "an_array = np.arange(10)\n",
        "an_array"
      ]
    },
    {
      "cell_type": "code",
      "execution_count": 184,
      "metadata": {
        "id": "ooymuYYIU4so"
      },
      "outputs": [],
      "source": [
        "another_array = an_array.view()"
      ]
    },
    {
      "cell_type": "code",
      "execution_count": 185,
      "metadata": {
        "id": "3I5DxIdrU4so",
        "colab": {
          "base_uri": "https://localhost:8080/"
        },
        "outputId": "4a2a50f0-d9c3-4a54-d9b6-a915354c7895"
      },
      "outputs": [
        {
          "output_type": "execute_result",
          "data": {
            "text/plain": [
              "array([[0, 1],\n",
              "       [2, 3],\n",
              "       [4, 5],\n",
              "       [6, 7],\n",
              "       [8, 9]])"
            ]
          },
          "metadata": {},
          "execution_count": 185
        }
      ],
      "source": [
        "another_array = another_array.reshape((5,2))\n",
        "another_array"
      ]
    },
    {
      "cell_type": "code",
      "execution_count": 186,
      "metadata": {
        "id": "M_suFG40U4so"
      },
      "outputs": [],
      "source": [
        "an_array[3] = 8"
      ]
    },
    {
      "cell_type": "code",
      "execution_count": 187,
      "metadata": {
        "id": "hKoyH3WbU4so",
        "colab": {
          "base_uri": "https://localhost:8080/"
        },
        "outputId": "0756c86e-873f-4e56-9c40-0acc3657ae06"
      },
      "outputs": [
        {
          "output_type": "execute_result",
          "data": {
            "text/plain": [
              "array([[0, 1],\n",
              "       [2, 8],\n",
              "       [4, 5],\n",
              "       [6, 7],\n",
              "       [8, 9]])"
            ]
          },
          "metadata": {},
          "execution_count": 187
        }
      ],
      "source": [
        "another_array"
      ]
    },
    {
      "cell_type": "markdown",
      "metadata": {
        "id": "SjMWGnttU4so"
      },
      "source": [
        "### [Copia](https://numpy.org/doc/stable/user/basics.copies.html)\n"
      ]
    },
    {
      "cell_type": "code",
      "execution_count": 189,
      "metadata": {
        "id": "A40b8ZA8U4so"
      },
      "outputs": [],
      "source": [
        "another_array = np.arange(10)"
      ]
    },
    {
      "cell_type": "code",
      "execution_count": 190,
      "metadata": {
        "id": "nyhvyRYlU4sp"
      },
      "outputs": [],
      "source": [
        "an_array = another_array.copy()"
      ]
    },
    {
      "cell_type": "code",
      "execution_count": 191,
      "metadata": {
        "id": "-btcd1wOU4sp"
      },
      "outputs": [],
      "source": [
        "an_array[3] = 8"
      ]
    },
    {
      "cell_type": "code",
      "execution_count": 192,
      "metadata": {
        "id": "euZ30kdaU4sp",
        "colab": {
          "base_uri": "https://localhost:8080/"
        },
        "outputId": "1416d4fe-5ef3-4ccc-f315-0dc3ae2517ab"
      },
      "outputs": [
        {
          "output_type": "execute_result",
          "data": {
            "text/plain": [
              "(array([0, 1, 2, 8, 4, 5, 6, 7, 8, 9]), array([0, 1, 2, 3, 4, 5, 6, 7, 8, 9]))"
            ]
          },
          "metadata": {},
          "execution_count": 192
        }
      ],
      "source": [
        "an_array, another_array"
      ]
    },
    {
      "cell_type": "markdown",
      "metadata": {
        "id": "EyIFsP5HHF1C"
      },
      "source": [
        "## Operaciones matemáticas"
      ]
    },
    {
      "cell_type": "code",
      "execution_count": 193,
      "metadata": {
        "id": "RDFFC5WxHR_f",
        "colab": {
          "base_uri": "https://localhost:8080/"
        },
        "outputId": "8d494898-b8f5-4870-90bf-57d32632eea6"
      },
      "outputs": [
        {
          "output_type": "execute_result",
          "data": {
            "text/plain": [
              "np.int64(499500)"
            ]
          },
          "metadata": {},
          "execution_count": 193
        }
      ],
      "source": [
        "np.sum(np.arange(1000)) # suma los elementos de un arreglo"
      ]
    },
    {
      "cell_type": "code",
      "execution_count": 211,
      "metadata": {
        "id": "DENTJZcJHU05",
        "colab": {
          "base_uri": "https://localhost:8080/"
        },
        "outputId": "7ed5b34c-76b2-4656-ccda-ec82df36d46e"
      },
      "outputs": [
        {
          "output_type": "stream",
          "name": "stdout",
          "text": [
            "[[ 0  1  2  3]\n",
            " [ 4  5  6  7]\n",
            " [ 8  9 10 11]\n",
            " [12 13 14 15]]\n"
          ]
        },
        {
          "output_type": "execute_result",
          "data": {
            "text/plain": [
              "array([24, 28, 32, 36])"
            ]
          },
          "metadata": {},
          "execution_count": 211
        }
      ],
      "source": [
        "arr = np.arange(16).reshape(4,4,)\n",
        "print(arr)\n",
        "np.sum(arr,0) #  de un arreglo 2d, suma solo un eje, el 0, el primero"
      ]
    },
    {
      "cell_type": "code",
      "execution_count": 212,
      "metadata": {
        "id": "rOpJ-ag2HkR3",
        "colab": {
          "base_uri": "https://localhost:8080/"
        },
        "outputId": "7d7b08cf-c1d2-4d47-a2b4-79a0108fa0cd"
      },
      "outputs": [
        {
          "output_type": "execute_result",
          "data": {
            "text/plain": [
              "array([1, 1, 1, 1, 1, 1, 1, 1, 1])"
            ]
          },
          "metadata": {},
          "execution_count": 212
        }
      ],
      "source": [
        "np.diff(np.arange(10)) # resta elementos consecutivos"
      ]
    },
    {
      "cell_type": "code",
      "execution_count": 214,
      "metadata": {
        "id": "Qg77ayKuHrzm",
        "colab": {
          "base_uri": "https://localhost:8080/"
        },
        "outputId": "3c5221ef-6b5c-4614-85ac-295610ef0574"
      },
      "outputs": [
        {
          "output_type": "execute_result",
          "data": {
            "text/plain": [
              "array([ 0,  1,  3,  6, 10, 15, 21, 28, 36, 45])"
            ]
          },
          "metadata": {},
          "execution_count": 214
        }
      ],
      "source": [
        "np.cumsum(np.arange(10)) # suma acumulada"
      ]
    },
    {
      "cell_type": "markdown",
      "metadata": {
        "id": "iof8f9p5gAcL"
      },
      "source": [
        "## Álgebra Lineal\n",
        "\n",
        "Numpy utiliza BLAS y LAPACK para las operaciones de álgebra lineal\n",
        "\n",
        "https://numpy.org/doc/stable/reference/routines.linalg.html#module-numpy.linalg\n",
        "\n",
        "Descomposiciones, autovalores, normas, determinante, rango, sistemas de ecuaciones, inversa, ..."
      ]
    },
    {
      "cell_type": "code",
      "execution_count": 215,
      "metadata": {
        "id": "1B4nlEbKTD8Z"
      },
      "outputs": [],
      "source": [
        "import numpy.linalg as lng"
      ]
    },
    {
      "cell_type": "code",
      "execution_count": 223,
      "metadata": {
        "id": "zrE773G_gFoJ",
        "colab": {
          "base_uri": "https://localhost:8080/"
        },
        "outputId": "4d8b259e-d3d5-40e7-f751-fd0c84219b43"
      },
      "outputs": [
        {
          "output_type": "execute_result",
          "data": {
            "text/plain": [
              "array([[2, 6, 2],\n",
              "       [3, 7, 6],\n",
              "       [5, 3, 5]])"
            ]
          },
          "metadata": {},
          "execution_count": 223
        }
      ],
      "source": [
        "A = np.random.randint(1,10,(3,3))\n",
        "A"
      ]
    },
    {
      "cell_type": "code",
      "execution_count": 224,
      "metadata": {
        "id": "5twKNrC4gE1U",
        "colab": {
          "base_uri": "https://localhost:8080/"
        },
        "outputId": "b8375b0d-2d72-4d12-bc7c-6d42698e785b"
      },
      "outputs": [
        {
          "output_type": "execute_result",
          "data": {
            "text/plain": [
              "array([[ 0.23611111, -0.33333333,  0.30555556],\n",
              "       [ 0.20833333,  0.        , -0.08333333],\n",
              "       [-0.36111111,  0.33333333, -0.05555556]])"
            ]
          },
          "metadata": {},
          "execution_count": 224
        }
      ],
      "source": [
        "lng.inv(A)  # Inversa"
      ]
    },
    {
      "cell_type": "code",
      "execution_count": 225,
      "metadata": {
        "id": "aJC2zFv_x5HG",
        "colab": {
          "base_uri": "https://localhost:8080/"
        },
        "outputId": "53382f54-a9f2-4375-a92b-70990ee48830"
      },
      "outputs": [
        {
          "output_type": "execute_result",
          "data": {
            "text/plain": [
              "np.float64(71.99999999999994)"
            ]
          },
          "metadata": {},
          "execution_count": 225
        }
      ],
      "source": [
        "lng.det(A)  # Determinante"
      ]
    },
    {
      "cell_type": "markdown",
      "metadata": {
        "id": "mgYZpsWownP0"
      },
      "source": [
        "## Resolver sistemas de ecuaciones"
      ]
    },
    {
      "cell_type": "code",
      "execution_count": 228,
      "metadata": {
        "id": "Nb6bTtiIwmpH",
        "colab": {
          "base_uri": "https://localhost:8080/"
        },
        "outputId": "c457b817-508f-44b2-beb6-d53b42c6dbdf"
      },
      "outputs": [
        {
          "output_type": "execute_result",
          "data": {
            "text/plain": [
              "(array([[-9,  3, -6,  8],\n",
              "        [ 0, -6, -9, -3],\n",
              "        [ 8,  9,  4, -8],\n",
              "        [-3, -2,  5,  6]]),\n",
              " array([[ 3],\n",
              "        [ 0],\n",
              "        [-2],\n",
              "        [ 5]]),\n",
              " array([[ 25],\n",
              "        [  3],\n",
              "        [-24],\n",
              "        [ 11]]))"
            ]
          },
          "metadata": {},
          "execution_count": 228
        }
      ],
      "source": [
        "A = np.random.randint(-9,10,(4,4))\n",
        "x = np.random.randint(-9,10,(4,1))\n",
        "b = A@x\n",
        "A, x, b"
      ]
    },
    {
      "cell_type": "code",
      "execution_count": 229,
      "metadata": {
        "id": "uQ2kt-3mw04b",
        "colab": {
          "base_uri": "https://localhost:8080/"
        },
        "outputId": "f59708e1-a816-4e95-b8ef-d8f161e4cdcf"
      },
      "outputs": [
        {
          "output_type": "stream",
          "name": "stdout",
          "text": [
            "[[ 3.00000000e+00]\n",
            " [ 3.04518315e-16]\n",
            " [-2.00000000e+00]\n",
            " [ 5.00000000e+00]]\n"
          ]
        },
        {
          "output_type": "execute_result",
          "data": {
            "text/plain": [
              "True"
            ]
          },
          "metadata": {},
          "execution_count": 229
        }
      ],
      "source": [
        "x_solve = lng.solve(A,b)\n",
        "print(x_solve)\n",
        "np.allclose(x,x_solve)"
      ]
    },
    {
      "cell_type": "markdown",
      "metadata": {
        "id": "Dr5xCGZwhL6s"
      },
      "source": [
        "## Ejercicios"
      ]
    },
    {
      "cell_type": "markdown",
      "metadata": {
        "id": "GXeH49ml9yCD"
      },
      "source": [
        "Realizar el ejercicio 3 de la práctica 1, ejecutando los comandos indicados.\n",
        "\n",
        "Realizar el ejercicio 21 de la Práctica 1. Utilizar ejercicio21_P1.py, completarlo y ejecutarlo en Spyder. Si surgen errores, hacer debugging en Spyder.\n",
        "\n",
        "Realizar el ejercicio 4 de la práctica 1."
      ]
    },
    {
      "cell_type": "markdown",
      "metadata": {
        "id": "gw3aokUKx5HI"
      },
      "source": [
        "## Programita para escalonar matrices: row_echelon\n"
      ]
    },
    {
      "cell_type": "code",
      "execution_count": 230,
      "metadata": {
        "id": "UhuwrcLFx5HI"
      },
      "outputs": [],
      "source": [
        "import numpy as np\n",
        "\n",
        "def row_echelon(M):\n",
        "    \"\"\"\n",
        "        Retorna la Matriz Escalonada por Filas\n",
        "    \"\"\"\n",
        "    A = np.copy(M)\n",
        "    if (issubclass(A.dtype.type, np.integer)):\n",
        "        A = A.astype(float)\n",
        "    # Si A no tiene filas o columnas, ya esta escalonada\n",
        "    f, c = A.shape\n",
        "    if f == 0 or c == 0:\n",
        "        return A\n",
        "    # buscamos primer elemento no nulo de la primera columna\n",
        "    i = 0\n",
        "    while i < f and A[i,0] == 0:\n",
        "        i += 1\n",
        "    if i == f:\n",
        "        # si todos los elementos de la primera columna son ceros\n",
        "        # escalonamos filas desde la segunda columna\n",
        "        B = row_echelon(A[:,1:])\n",
        "        # y volvemos a agregar la primera columna de zeros\n",
        "        return np.block([A[:,:1], B])\n",
        "    # intercambiamos filas i <-> 0, pues el primer cero aparece en la fila i\n",
        "    if i > 0:\n",
        "        A[[0,i],:] = A[[i,0],:]\n",
        "    # PASO DE TRIANGULACION GAUSSIANA:\n",
        "    # a las filas subsiguientes les restamos un multiplo de la primera\n",
        "    A[1:,:] -= (A[0,:] / A[0,0]) * A[1:,0:1]\n",
        "    # escalonamos desde la segunda fila y segunda columna en adelante\n",
        "    B = row_echelon(A[1:,1:])\n",
        "    # reconstruimos la matriz por bloques adosando a B la primera fila\n",
        "    # y la primera columna (de ceros)\n",
        "    return np.block([ [A[:1,:]], [ A[1:,:1], B] ])"
      ]
    },
    {
      "cell_type": "code",
      "execution_count": 231,
      "metadata": {
        "id": "PqiWKQlDx5HI",
        "colab": {
          "base_uri": "https://localhost:8080/"
        },
        "outputId": "66fc26ac-ca85-4a01-9fca-e87832a8ff8b"
      },
      "outputs": [
        {
          "output_type": "stream",
          "name": "stdout",
          "text": [
            "[[ 1  2  3  4]\n",
            " [ 5  6  7  8]\n",
            " [ 9 10 11 12]]\n",
            "---------------\n",
            "[[  1.   2.   3.   4.]\n",
            " [  0.  -4.  -8. -12.]\n",
            " [  0.   0.   0.   0.]]\n"
          ]
        }
      ],
      "source": [
        "# Lo probamos:\n",
        "A = np.array([[1,2,3,4],[5,6,7,8],[9,10,11,12]])\n",
        "print(A)\n",
        "print('---------------')\n",
        "print(row_echelon(A))"
      ]
    },
    {
      "cell_type": "code",
      "execution_count": 232,
      "metadata": {
        "id": "PKUgQjOKx5HJ",
        "colab": {
          "base_uri": "https://localhost:8080/"
        },
        "outputId": "b3867745-e0e0-48c1-ae66-27b5fc22cb4f"
      },
      "outputs": [
        {
          "output_type": "stream",
          "name": "stdout",
          "text": [
            "[[1. 2. 3.]\n",
            " [4. 5. 6.]\n",
            " [7. 8. 9.]]\n",
            "[[4.]\n",
            " [7.]]\n",
            "[[ 4.  8. 12.]\n",
            " [ 7. 14. 21.]]\n",
            "[[4. 5. 6.]\n",
            " [7. 8. 9.]]\n",
            "[[  1.   2.   3.]\n",
            " [  0.  -3.  -6.]\n",
            " [  0.  -6. -12.]]\n"
          ]
        }
      ],
      "source": [
        "# OJO... puede hacer algunas operaciones de cambios de fila!\n",
        "A = np.array([[1,2,3],[4,5,6],[7,8,9]])\n",
        "A = A.astype(float)\n",
        "print(A)\n",
        "print(A[1:,0:1])\n",
        "\n",
        "print((A[0,:] / A[0,0]) * A[1:,0:1])\n",
        "\n",
        "print(A[1:,:])\n",
        "\n",
        "A[1:,:] -= (A[0,:] / A[0,0]) * A[1:,0:1]\n",
        "\n",
        "print(A)"
      ]
    },
    {
      "cell_type": "code",
      "execution_count": 233,
      "metadata": {
        "id": "PaTAGoXrx5HJ",
        "colab": {
          "base_uri": "https://localhost:8080/"
        },
        "outputId": "eb42f683-c367-4dc0-e8f8-ee9c9282e0ac"
      },
      "outputs": [
        {
          "output_type": "stream",
          "name": "stdout",
          "text": [
            "[[ 1  2  3  4]\n",
            " [ 5  6  7  8]\n",
            " [ 9 10 11 12]]\n",
            "[[  1.   2.   3.   4.]\n",
            " [  0.  -4.  -8. -12.]\n",
            " [  0.   0.   0.   0.]]\n"
          ]
        }
      ],
      "source": [
        "# Otro ejemplo\n",
        "A = np.array([[1,2,3,4],[5,6,7,8],[9,10,11,12]])\n",
        "print(A)\n",
        "print(row_echelon(A))"
      ]
    },
    {
      "cell_type": "code",
      "execution_count": 234,
      "metadata": {
        "id": "aCj9V2Nkx5HK",
        "colab": {
          "base_uri": "https://localhost:8080/"
        },
        "outputId": "00284ecb-022a-4d92-d440-2b0bc23f24ca"
      },
      "outputs": [
        {
          "output_type": "stream",
          "name": "stdout",
          "text": [
            "[[ 1  2  3  4]\n",
            " [ 5  6  7  8]\n",
            " [ 9 10 11 12]]\n",
            "[[  1.   2.   3.   4.]\n",
            " [  0.  -4.  -8. -12.]\n",
            " [  0.   0.   0.   0.]]\n"
          ]
        }
      ],
      "source": [
        "# Y otro mas\n",
        "A = np.array([[1,2,3,4],[5,6,7,8],[9,10,11,12]])\n",
        "print(A)\n",
        "print(row_echelon(A))"
      ]
    },
    {
      "cell_type": "markdown",
      "metadata": {
        "id": "xSco_BqBx5HK"
      },
      "source": [
        "### Complejidad de la elimación gaussiana (row_echelon) experimentalmente"
      ]
    },
    {
      "cell_type": "code",
      "execution_count": 235,
      "metadata": {
        "id": "_C0AQeifx5HL"
      },
      "outputs": [],
      "source": [
        "import time # Para tomar tiempos de operaciones"
      ]
    },
    {
      "cell_type": "code",
      "execution_count": 236,
      "metadata": {
        "id": "ZE6ysiGHx5HL",
        "colab": {
          "base_uri": "https://localhost:8080/"
        },
        "outputId": "bdc7a078-a96b-41a2-c3d0-25a13d1e6405"
      },
      "outputs": [
        {
          "output_type": "stream",
          "name": "stdout",
          "text": [
            "[[0.30801107 0.3841502  0.84138213 0.49529126 0.8103101  0.10845468\n",
            "  0.829706   0.75167153 0.11237119 0.7229419 ]\n",
            " [0.2034694  0.8640106  0.37048147 0.14411046 0.21419326 0.80237111\n",
            "  0.0184953  0.50073825 0.01284683 0.2866232 ]\n",
            " [0.28967343 0.31268128 0.20109981 0.69070888 0.82526068 0.35257343\n",
            "  0.23515703 0.62748523 0.33850232 0.40975018]\n",
            " [0.11041629 0.36824788 0.37140493 0.43953893 0.57954203 0.11610468\n",
            "  0.0834736  0.98394952 0.14679826 0.72360925]\n",
            " [0.26606945 0.06107899 0.04085556 0.70301669 0.62110004 0.37287813\n",
            "  0.37452821 0.19754822 0.96516205 0.79269199]\n",
            " [0.79559625 0.04165553 0.17689182 0.19471188 0.37199155 0.17660852\n",
            "  0.56411975 0.07937125 0.50490734 0.52681706]\n",
            " [0.16922731 0.61916126 0.22984929 0.18417796 0.78617615 0.22434003\n",
            "  0.04553033 0.16066591 0.72702703 0.75491944]\n",
            " [0.26345887 0.06597501 0.49441526 0.21855091 0.85957235 0.51531047\n",
            "  0.93499476 0.79736041 0.14211659 0.44341422]\n",
            " [0.46495881 0.93973359 0.63367489 0.19328564 0.88747363 0.44714119\n",
            "  0.47271414 0.78179148 0.28002687 0.03932099]\n",
            " [0.34724888 0.13831894 0.39393712 0.48622146 0.7988543  0.88809017\n",
            "  0.53722034 0.72831075 0.42279983 0.0069136 ]]\n"
          ]
        }
      ],
      "source": [
        "# Matrices con numeros aleatorios\n",
        "A = np.random.rand(10,10)\n",
        "print(A)"
      ]
    },
    {
      "cell_type": "code",
      "execution_count": 237,
      "metadata": {
        "id": "S4-KzPojx5HM",
        "colab": {
          "base_uri": "https://localhost:8080/"
        },
        "outputId": "b2c339d3-f2f5-4e19-d156-c3348cf01b57"
      },
      "outputs": [
        {
          "output_type": "stream",
          "name": "stdout",
          "text": [
            "0.009444475173950195\n"
          ]
        }
      ],
      "source": [
        "# Probamos para 100x100\n",
        "A = np.random.rand(100,100)\n",
        "start = time.time()\n",
        "B = row_echelon(A)\n",
        "end = time.time()\n",
        "t1 = end - start\n",
        "print(t1)"
      ]
    },
    {
      "cell_type": "code",
      "execution_count": 238,
      "metadata": {
        "id": "RQ6LhaSrx5HM",
        "colab": {
          "base_uri": "https://localhost:8080/"
        },
        "outputId": "64393097-b475-40b8-d37f-ec96175e1b89"
      },
      "outputs": [
        {
          "output_type": "stream",
          "name": "stdout",
          "text": [
            "0.033006906509399414\n"
          ]
        }
      ],
      "source": [
        "# Probamos para 200x200\n",
        "A = np.random.rand(200,200)\n",
        "start = time.time()\n",
        "B = row_echelon(A)\n",
        "end = time.time()\n",
        "t2 = end - start\n",
        "print(t2)"
      ]
    },
    {
      "cell_type": "code",
      "execution_count": 239,
      "metadata": {
        "id": "o-SivtY3x5HM",
        "colab": {
          "base_uri": "https://localhost:8080/"
        },
        "outputId": "d64ed0d2-7536-4e1d-b295-72e7a9098c3d"
      },
      "outputs": [
        {
          "output_type": "stream",
          "name": "stdout",
          "text": [
            "0.12111330032348633\n"
          ]
        }
      ],
      "source": [
        "# Probamos para 300x300\n",
        "A = np.random.rand(300,300)\n",
        "start = time.time()\n",
        "B = row_echelon(A)\n",
        "end = time.time()\n",
        "t3 = end - start\n",
        "print(t3)"
      ]
    },
    {
      "cell_type": "code",
      "execution_count": 240,
      "metadata": {
        "id": "86iar2ptx5HN",
        "colab": {
          "base_uri": "https://localhost:8080/"
        },
        "outputId": "1bdcdc0d-b206-488c-8bec-d111823f6694"
      },
      "outputs": [
        {
          "output_type": "stream",
          "name": "stdout",
          "text": [
            "0.25354719161987305\n"
          ]
        }
      ],
      "source": [
        "# Probamos para 400x400\n",
        "A = np.random.rand(400,400)\n",
        "start = time.time()\n",
        "B = row_echelon(A)\n",
        "end = time.time()\n",
        "t4 = end - start\n",
        "print(t4)"
      ]
    },
    {
      "cell_type": "markdown",
      "metadata": {
        "id": "T_tW_GLHx5HN"
      },
      "source": [
        "Ahora que tenemos la intuición, lo hacemos sistemáticamente:"
      ]
    },
    {
      "cell_type": "code",
      "execution_count": 241,
      "metadata": {
        "id": "i6sWZ5Jpx5HN"
      },
      "outputs": [],
      "source": [
        "import time\n",
        "import numpy as np\n",
        "def test_row_echelon(tamano_matrices: list, cantidad_repeticiones: int):\n",
        "    tiempos_medios = []\n",
        "    tiempos_desvios = []\n",
        "    for N in tamano_matrices: # Vamos a iterar sobre distintos tamaños\n",
        "        tiempos = []\n",
        "        for _ in range(cantidad_repeticiones): # Como las matrices son al azar, repetimos varias veces para calcular promedio y desvio (variabilidad)\n",
        "            A = np.random.rand(N,N)\n",
        "            start = time.time()\n",
        "            B = row_echelon(A)\n",
        "            end = time.time()\n",
        "            tiempos.append(end - start)\n",
        "        tiempos_medios.append(np.mean(tiempos)) # Tiempo promedio\n",
        "        tiempos_desvios.append(np.std(tiempos)) # Desvio en los tiempos\n",
        "    return([tiempos_medios,tiempos_desvios])\n"
      ]
    },
    {
      "cell_type": "code",
      "execution_count": 242,
      "metadata": {
        "id": "AEsHiavgx5HO"
      },
      "outputs": [],
      "source": [
        "import sys\n",
        "sys.setrecursionlimit(5000)\n",
        "tamanos_matrices = [2,5,10,20,50,100,200,500,1000] # Los buenos tests toman su tiempo: este tarda unos 4 minutos\n",
        "cantidad_repeticiones = 30\n",
        "tiempos_medios,tiempos_desvios = test_row_echelon(tamanos_matrices,cantidad_repeticiones)"
      ]
    },
    {
      "cell_type": "code",
      "execution_count": 243,
      "metadata": {
        "id": "tGvci4XEx5HO",
        "colab": {
          "base_uri": "https://localhost:8080/",
          "height": 448
        },
        "outputId": "46bb9441-d2db-41c4-ccb1-245a1677a0b6"
      },
      "outputs": [
        {
          "output_type": "execute_result",
          "data": {
            "text/plain": [
              "<matplotlib.collections.PathCollection at 0x7890e9420dd0>"
            ]
          },
          "metadata": {},
          "execution_count": 243
        },
        {
          "output_type": "display_data",
          "data": {
            "text/plain": [
              "<Figure size 640x480 with 1 Axes>"
            ],
            "image/png": "[encoded data removed]"
          },
          "metadata": {}
        }
      ],
      "source": [
        "import matplotlib.pyplot as plt # Graficamos los tiempos medios\n",
        "plt.scatter(tamanos_matrices,tiempos_medios)"
      ]
    },
    {
      "cell_type": "code",
      "execution_count": 244,
      "metadata": {
        "id": "177GNyPVx5HO",
        "colab": {
          "base_uri": "https://localhost:8080/",
          "height": 448
        },
        "outputId": "21a157c6-2b8c-4e72-f269-bb42ba189e1e"
      },
      "outputs": [
        {
          "output_type": "execute_result",
          "data": {
            "text/plain": [
              "<ErrorbarContainer object of 3 artists>"
            ]
          },
          "metadata": {},
          "execution_count": 244
        },
        {
          "output_type": "display_data",
          "data": {
            "text/plain": [
              "<Figure size 640x480 with 1 Axes>"
            ],
            "image/png": "[encoded data removed]"
          },
          "metadata": {}
        }
      ],
      "source": [
        "# Mejor aun con barras de error\n",
        "plt.errorbar(tamanos_matrices, tiempos_medios, yerr=tiempos_desvios, fmt='o', capsize=5, ecolor='red', markerfacecolor='blue')"
      ]
    },
    {
      "cell_type": "code",
      "execution_count": 245,
      "metadata": {
        "id": "dD-pwk7Cx5HP",
        "colab": {
          "base_uri": "https://localhost:8080/",
          "height": 452
        },
        "outputId": "3763e85e-c03d-4cc9-ce81-843b7785dfad"
      },
      "outputs": [
        {
          "output_type": "execute_result",
          "data": {
            "text/plain": [
              "[<matplotlib.lines.Line2D at 0x7890e850fe30>]"
            ]
          },
          "metadata": {},
          "execution_count": 245
        },
        {
          "output_type": "display_data",
          "data": {
            "text/plain": [
              "<Figure size 640x480 with 1 Axes>"
            ],
            "image/png": "[encoded data removed]"
          },
          "metadata": {}
        }
      ],
      "source": [
        "# Y en este caso, mejor aun con barras de escala logaritmica para comparar escalas\n",
        "plt.errorbar(tamanos_matrices, tiempos_medios, yerr=tiempos_desvios, fmt='o', capsize=5, ecolor='red', markerfacecolor='blue')\n",
        "plt.yscale('log')\n",
        "plt.xscale('log')\n",
        "# Esta linea muestra que el crecimiento del tiempo es aproximadamente cúbico em eñ tamaño de la matriz (para matrices grandes)\n",
        "plt.plot(np.array([10**1,10**3]),np.array([10**1,10**3])**3/10**8)"
      ]
    }
  ],
  "metadata": {
    "colab": {
      "provenance": [],
      "toc_visible": true
    },
    "kernelspec": {
      "display_name": "base",
      "language": "python",
      "name": "python3"
    },
    "language_info": {
      "codemirror_mode": {
        "name": "ipython",
        "version": 3
      },
      "file_extension": ".py",
      "mimetype": "text/x-python",
      "name": "python",
      "nbconvert_exporter": "python",
      "pygments_lexer": "ipython3",
      "version": "3.11.7"
    }
  },
  "nbformat": 4,
  "nbformat_minor": 0
}