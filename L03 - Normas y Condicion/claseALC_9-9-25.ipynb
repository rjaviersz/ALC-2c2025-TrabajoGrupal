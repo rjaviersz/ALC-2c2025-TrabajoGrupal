{
 "cells": [
  {
   "cell_type": "markdown",
   "id": "18a95fd2",
   "metadata": {},
   "source": [
    "### Clase 9/9/25: repaso de Álgebra básico y transformaciones lineales. Intro normas."
   ]
  },
  {
   "cell_type": "markdown",
   "id": "a0f3a12e",
   "metadata": {},
   "source": [
    "##### Numpy ABC"
   ]
  },
  {
   "cell_type": "markdown",
   "id": "d76ccd80",
   "metadata": {},
   "source": [
    "Tenemos vectores $v \\in \\mathbb{R}^n$ (a.k.a puntos) y transformaciones lineales $A \\in \\mathbb{R}^{m \\times n}$ o $f(v) \\in R^m$ (a.k.a matrices)."
   ]
  },
  {
   "cell_type": "code",
   "execution_count": null,
   "id": "ca9a64a6",
   "metadata": {},
   "outputs": [],
   "source": [
    "import numpy as np\n",
    "import matplotlib.pyplot as plt\n",
    "v = np.array([1,1,1]) # Un vector\n",
    "print(v)\n",
    "v2 = np.random.rand(3) # Otro pero al azar\n",
    "print(v2)\n",
    "v3 = np.random.rand(3,2)\n",
    "print(v3) # Dos vectores? Tres vectores? Una matriz?"
   ]
  },
  {
   "cell_type": "code",
   "execution_count": null,
   "id": "c45202be",
   "metadata": {},
   "outputs": [],
   "source": [
    "print(v2@v2) # Un producto interno entre vectores u = sum_j v_j v_j\n",
    "print(v2.reshape(3,1)) # Un vector \"encolumnado\"\n",
    "print( ( v2.reshape(3,1) )@ ( v2.reshape(1,3) ) ) # Producto \"externo\" Aij = vi vj"
   ]
  },
  {
   "cell_type": "code",
   "execution_count": null,
   "id": "49f09559",
   "metadata": {},
   "outputs": [],
   "source": [
    "A = np.array([[1,2,3],[4,5,6],[7,8,9]])\n",
    "print(A) # Una matriz\n",
    "print(A@v) # f(v) un vector\n",
    "print(v.T @ A.T) # El mismo vector pero traspuesto"
   ]
  },
  {
   "cell_type": "code",
   "execution_count": null,
   "id": "9847b5ba",
   "metadata": {},
   "outputs": [],
   "source": [
    "# Para jugar viendo un poco del error de punto flotante, el condicionamiento de matrices, y lo que quieran.\n",
    "E = 1e-16\n",
    "A = np.array([[1-E,1+E],[1+E,1-E]])\n",
    "v = np.array([E,-E])\n",
    "print(A@np.linalg.solve(A,v)/E)"
   ]
  },
  {
   "cell_type": "code",
   "execution_count": null,
   "id": "becdd1b1",
   "metadata": {},
   "outputs": [],
   "source": [
    "# Un proyector\n",
    "v2 = v2/np.sqrt(v2@v2) # Normalizamos v2\n",
    "P = np.eye(len(v2)) - ( v2.reshape(3,1) ) @ ( v2.reshape(1,3) ) # Un proyector\n",
    "v4 = P@np.random.rand(len(v2)) # Un vector ortogonal a v2\n",
    "v4@v2 # Fijense que el error de punto flotante hace que no sea exactamente cero"
   ]
  },
  {
   "cell_type": "markdown",
   "id": "b33a7a12",
   "metadata": {},
   "source": [
    "Todo lo que van a necesitar (y posiblemente más) lo pueden encontrar en la introducción a Python que hay en el campus."
   ]
  },
  {
   "cell_type": "markdown",
   "id": "af3d1eba",
   "metadata": {},
   "source": [
    "##### Transformaciones lineales"
   ]
  },
  {
   "cell_type": "markdown",
   "id": "2a496b44",
   "metadata": {},
   "source": [
    "Toda transformación lineal puede escribirse como una matriz estableciendo un homomorfismo entre vectores canónicos y vectores de la base en cuestión.\n",
    "\n",
    "Gracias a esto podemos pensar a las transformaciones lineales simplemente como matrices, pero recuerden que son mucho más."
   ]
  },
  {
   "cell_type": "markdown",
   "id": "019ed70a",
   "metadata": {},
   "source": [
    "Tomemos una matriz $A \\in \\mathbb{R}^{m \\times n}$"
   ]
  },
  {
   "cell_type": "markdown",
   "id": "d80a0ef3",
   "metadata": {},
   "source": [
    "#### Las TL tienen núcleo: $x \\in \\mathbb{R}^n: Ax = 0$"
   ]
  },
  {
   "cell_type": "code",
   "execution_count": null,
   "id": "12f46985",
   "metadata": {},
   "outputs": [],
   "source": [
    "# Veremos métodos más sofisticados luego, por ahora lo hacemos con Monte Carlo:\n",
    "\n",
    "A =  np.array([[1,1],[1,1]])\n",
    "\n",
    "# Tiene en el núcleo el <(1,-1)>"
   ]
  },
  {
   "cell_type": "code",
   "execution_count": null,
   "id": "c4c2a26e",
   "metadata": {},
   "outputs": [],
   "source": [
    "# Lo vemos usando la grilla del L02\n",
    "def pointsGrid(esquinas):\n",
    "    # crear 10 lineas horizontales\n",
    "    [w1, z1] = np.meshgrid(np.linspace(esquinas[0,0], esquinas[1,0], 46),\n",
    "                        np.linspace(esquinas[0,1], esquinas[1,1], 10))\n",
    "\n",
    "    [w2, z2] = np.meshgrid(np.linspace(esquinas[0,0], esquinas[1,0], 10),\n",
    "                        np.linspace(esquinas[0,1], esquinas[1,1], 46))\n",
    "\n",
    "    w = np.concatenate((w1.reshape(1,-1),w2.reshape(1,-1)),1)\n",
    "    z = np.concatenate((z1.reshape(1,-1),z2.reshape(1,-1)),1)\n",
    "    wz = np.concatenate((w,z))\n",
    "                         \n",
    "    return wz\n",
    "\n",
    "def proyectarPts(T, wz):\n",
    "    assert(T.shape == (2,2)) # chequeo de matriz 2x2\n",
    "    assert(T.shape[1] == wz.shape[0]) # multiplicacion matricial valida   \n",
    "    xy = T@wz\n",
    "    return xy\n",
    "\n",
    "          \n",
    "def vistform(T, wz, titulo=''):\n",
    "    # transformar los puntos de entrada usando T\n",
    "    xy = proyectarPts(T, wz)\n",
    "    if xy is None:\n",
    "        print('No fue implementada correctamente la proyeccion de coordenadas')\n",
    "        return\n",
    "    # calcular los limites para ambos plots\n",
    "    minlim = np.min(np.concatenate((wz, xy), 1), axis=1)\n",
    "    maxlim = np.max(np.concatenate((wz, xy), 1), axis=1)\n",
    "\n",
    "    bump = [np.max(((maxlim[0] - minlim[0]) * 0.05, 0.1)),\n",
    "            np.max(((maxlim[1] - minlim[1]) * 0.05, 0.1))]\n",
    "    limits = [[minlim[0]-bump[0], maxlim[0]+bump[0]],\n",
    "               [minlim[1]-bump[1], maxlim[1]+bump[1]]]             \n",
    "\n",
    "    fig, (ax1, ax2) = plt.subplots(1, 2)         \n",
    "    fig.suptitle(titulo)\n",
    "    grid_plot(ax1, wz, limits, 'w', 'z')    \n",
    "    grid_plot(ax2, xy, limits, 'x', 'y')\n",
    "\n",
    "def grid_plot(ax, ab, limits, a_label, b_label):\n",
    "    ax.plot(ab[0,:], ab[1,:], '.')\n",
    "    ax.set(aspect='equal',\n",
    "           xlim=limits[0], ylim=limits[1],\n",
    "           xlabel=a_label, ylabel=b_label)\n"
   ]
  },
  {
   "cell_type": "code",
   "execution_count": null,
   "id": "9621c8fa",
   "metadata": {},
   "outputs": [],
   "source": [
    "wz = pointsGrid(np.array([[-1,-1],[1,1]]))\n",
    "vistform(A,wz)"
   ]
  },
  {
   "cell_type": "code",
   "execution_count": null,
   "id": "e5f96cba",
   "metadata": {},
   "outputs": [],
   "source": [
    "# Otra forma de verlo, con quiver:\n",
    "x = np.linspace(-5, 5, 10)   # 5 puntos en X\n",
    "y = np.linspace(-5, 5, 10)   # 5 puntos en Y\n",
    "X, Y = np.meshgrid(x, y)\n",
    "\n",
    "# Armar V como 2xN (cada columna es un punto de la grilla)\n",
    "V = np.vstack([X.ravel(), Y.ravel()])\n",
    "VX,VY = A@V\n",
    "\n",
    "# Graficar\n",
    "fig, ax = plt.subplots()\n",
    "    \n",
    "# Vectores originales en azul\n",
    "ax.quiver(\n",
    "    X,Y,\n",
    "    VX,VY\n",
    ")"
   ]
  },
  {
   "cell_type": "markdown",
   "id": "bc1e1d7b",
   "metadata": {},
   "source": [
    "#### Las TL tienen imagen: son los $y \\in \\mathbb{R}^m : y=Ax, x \\in \\mathbb{R}^n$"
   ]
  },
  {
   "cell_type": "markdown",
   "id": "e70dd9bc",
   "metadata": {},
   "source": [
    "¿Dónde se ve en las figuras anteriores?"
   ]
  },
  {
   "cell_type": "code",
   "execution_count": null,
   "id": "682984b5",
   "metadata": {},
   "outputs": [],
   "source": [
    "# Las rotaciones tienen núcleo trivial\n",
    "\n",
    "def rota(theta):\n",
    "    R = np.array([[np.cos(theta),-np.sin(theta)],\n",
    "              [np.sin(theta),np.cos(theta)]])\n",
    "    return R\n",
    "\n",
    "R = rota(np.pi/4)"
   ]
  },
  {
   "cell_type": "code",
   "execution_count": null,
   "id": "b4aabdcc",
   "metadata": {},
   "outputs": [],
   "source": [
    "wz = pointsGrid(np.array([[-1,-1],[1,1]]))\n",
    "vistform(R,wz)"
   ]
  },
  {
   "cell_type": "code",
   "execution_count": null,
   "id": "1c20eea2",
   "metadata": {},
   "outputs": [],
   "source": [
    "VX,VY = R@V\n",
    "\n",
    "# Graficar\n",
    "fig, ax = plt.subplots()\n",
    "    \n",
    "# Vectores originales en azul\n",
    "ax.quiver(\n",
    "    X,Y,\n",
    "    VX,VY\n",
    ")\n",
    "# ¿Por qué parece \"divergente\", si sólo rota al sistema?"
   ]
  },
  {
   "cell_type": "markdown",
   "id": "37be0260",
   "metadata": {},
   "source": [
    "#### Normas"
   ]
  },
  {
   "cell_type": "code",
   "execution_count": null,
   "id": "164dedaa",
   "metadata": {},
   "outputs": [],
   "source": [
    "import numpy as np\n",
    "import matplotlib.pyplot as plt\n",
    "E = 1e-1\n",
    "A = np.array([[1+E,1-E],[1,1]])\n",
    "\n",
    "puntos = np.random.rand(2,1000)-0.5\n",
    "puntos = np.array([punto/np.sqrt(punto@punto) for punto in puntos.T]).T\n",
    "tpuntos = A@puntos\n",
    "plt.scatter(puntos[0],puntos[1],label='partida')\n",
    "plt.scatter(tpuntos[0],tpuntos[1],label='llegada')\n",
    "plt.gca().set_aspect('equal')\n"
   ]
  },
  {
   "cell_type": "code",
   "execution_count": null,
   "id": "cdea06dc",
   "metadata": {},
   "outputs": [],
   "source": [
    "import numpy as np\n",
    "import matplotlib.pyplot as plt\n",
    "E = 1e-1\n",
    "A = np.array([[1+E,1-E],[1,1]])\n",
    "\n",
    "puntos = np.random.rand(2,1000)-0.5\n",
    "puntos = np.array([punto/np.sqrt(punto@punto) for punto in puntos.T]).T\n",
    "tpuntos = A@puntos\n",
    "plt.scatter(puntos[0],puntos[1],label='partida')\n",
    "plt.scatter(tpuntos[0],tpuntos[1],label='llegada')\n",
    "for i in range(10):\n",
    "    plt.arrow(puntos[0][i],puntos[1][i],tpuntos[0][i]-puntos[0][i],tpuntos[1][i]-puntos[1][i])\n",
    "plt.gca().set_aspect('equal')\n"
   ]
  },
  {
   "cell_type": "code",
   "execution_count": null,
   "id": "c0f96b3c",
   "metadata": {},
   "outputs": [
    {
     "ename": "",
     "evalue": "",
     "output_type": "error",
     "traceback": [
      "\u001b[1;31mThe Kernel crashed while executing code in the current cell or a previous cell. \n",
      "\u001b[1;31mPlease review the code in the cell(s) to identify a possible cause of the failure. \n",
      "\u001b[1;31mClick <a href='https://aka.ms/vscodeJupyterKernelCrash'>here</a> for more info. \n",
      "\u001b[1;31mView Jupyter <a href='command:jupyter.viewOutput'>log</a> for further details."
     ]
    }
   ],
   "source": [
    "import numpy as np\n",
    "import matplotlib.pyplot as plt\n",
    "def expande(diagonal):\n",
    "    return np.diag(diagonal)\n",
    "A =  expande([1.1,1]) @ rota(np.pi/4) @ expande([1.1,1]) @ rota(np.pi/4) @ expande([1.1,1]) @ rota(np.pi/4)\n",
    "\n",
    "puntos = np.random.rand(2,1000)-0.5\n",
    "puntos = np.array([punto/np.sqrt(punto@punto) for punto in puntos.T]).T\n",
    "tpuntos = A@puntos\n",
    "plt.scatter(puntos[0],puntos[1],label='partida')\n",
    "plt.scatter(tpuntos[0],tpuntos[1],label='llegada')\n",
    "for i in range(10):\n",
    "    plt.arrow(puntos[0][i],puntos[1][i],tpuntos[0][i]-puntos[0][i],tpuntos[1][i]-puntos[1][i])\n",
    "plt.gca().set_aspect('equal')\n"
   ]
  }
 ],
 "metadata": {
  "kernelspec": {
   "display_name": "base",
   "language": "python",
   "name": "python3"
  },
  "language_info": {
   "codemirror_mode": {
    "name": "ipython",
    "version": 3
   },
   "file_extension": ".py",
   "mimetype": "text/x-python",
   "name": "python",
   "nbconvert_exporter": "python",
   "pygments_lexer": "ipython3",
   "version": "3.11.7"
  }
 },
 "nbformat": 4,
 "nbformat_minor": 5
}
